{
 "cells": [
  {
   "cell_type": "markdown",
   "id": "3c53bfd8",
   "metadata": {},
   "source": [
    "[Data Analysis with Python](https://www.coursera.org/learn/data-analysis-with-python/home/welcome) > [Module 4](https://www.coursera.org/learn/data-analysis-with-python/home/module/4) > [Model Development](https://www.coursera.org/learn/data-analysis-with-python/lecture/qF8hd/model-development#)"
   ]
  },
  {
   "cell_type": "markdown",
   "id": "91a2a4b0",
   "metadata": {},
   "source": [
    "## **Model Development**"
   ]
  },
  {
   "cell_type": "markdown",
   "id": "4846f977",
   "metadata": {},
   "source": [
    "### **Video:** Model Development\n",
    "\n",
    "> *Transcript:*\n",
    "> \n",
    "> In this video, we will examine model development by trying to predict the price of a car using our dataset. In this module, you will learn about simple and multiple linear regression, model evaluation using visualization, polynomial regression and pipelines, R-squared and MSE for in-sample evaluation, prediction and decision making, and how you can determine a fair value for a used car. A model or estimator can be thought of as a mathematical equation used to predict a value given one or more other values, relating one or more independent variables or features to dependent variables. For example, you input a car models highway miles per gallon as the independent variable or feature. The output of the model or dependent variable is the price. Usually the more relevant data you have, the more accurate your model is. For example, you input multiple independent variables or features to your model. Therefore, your model may predict a more accurate price for the car. To understand why more data is important consider the following situation. You have two almost identical cars. Pink cars sell for significantly less. You want to use your model to determine the price of two cars, one pink, one red. If your model's independent variables or features do not include color, your model will predict the same price for cars that may sell for much less. In addition to getting more data, you can try different types of models. In this course you will learn about simple linear regression, multiple linear regression, and polynomial regression."
   ]
  },
  {
   "cell_type": "markdown",
   "id": "235f7ca6",
   "metadata": {},
   "source": [
    "#### **Module 4 - Model Development**"
   ]
  },
  {
   "cell_type": "markdown",
   "id": "f7886aad",
   "metadata": {},
   "source": [
    "#### **Learning Objectives**\n",
    "\n",
    "- In this lesson you will learn about:\n",
    "\n",
    "    1. Simple and Multiple Linear Regression\n",
    "    2. Model Evaluation using Visualization\n",
    "    3. Polynomial Regression and Pipelines\n",
    "    4. R-squared and MSE for In-Sample Evaluation\n",
    "    5. Prediction and Decision Making\n",
    "\n",
    "- Question\n",
    "\n",
    "    - **How can you determine a fair value for a used car?**"
   ]
  },
  {
   "cell_type": "markdown",
   "id": "a335fdcb",
   "metadata": {},
   "source": [
    "#### **Model Development**\n",
    "\n",
    "- A model can be thought of as a mathematical equation used to predict a value given one or more other values\n",
    "- Relating one or more independent variables to dependent variables\n",
    "\n",
    "    <img src='./img/Model Developemnt 01.PNG' alt='Model Developemtn 01' width='60%'>\n",
    "\n",
    "- Usually the more **relevant data** you have the more accurate your model is\n",
    "\n",
    "    <img src='./img/Model Developemnt 02.PNG' alt='Model Developemtn 01' width='60%'>\n",
    "\n",
    "- Two understand why more data is important, consider the following situation:\n",
    "\n",
    "    1. You have two almost identical cars\n",
    "    2. Pink car sell for significantly less\n",
    "\n",
    "    <img src='./img/Model Developemnt 03.PNG' alt='Model Developemtn 01' width='60%'>\n",
    "\n",
    "In addition to getting more data, you can try different types of models.\n",
    "\n",
    "In this course you will learn about:\n",
    "\n",
    "1. Simple Linear Regression\n",
    "2. Multiple Linear Regression"
   ]
  },
  {
   "cell_type": "markdown",
   "id": "7d428eae",
   "metadata": {},
   "source": [
    "### **Video:** Linear Regression and Multiple Linear Regression\n",
    "\n",
    "> *Transcript:*\n",
    "> \n",
    "> [MUSIC] In this video, we'll be talking about simple linear regression and multiple linear regression. Linear regression will refer to one independent variable to make a prediction. Multiple linear regression will refer to multiple independent variables to make a prediction. Simple linear regression, or SLR, is a method to help us understand the relationship between two variables: the predictor (independent variable x) and the target (dependent variable y). We would like to come up with a linear relationship between the variables shown here. The parameter b0 is the intercept, the parameter b1 is the slope. When we fit or train the model we will come up with these parameters. This step requires lots of math, so we will not focus on this part. Let's clarify the prediction step. It's hard to figure out how much a car costs, but the highway miles per gallon is in the owner's manual. If we assume there is a linear relationship between these variables, we can use this relationship to formulate a model to determine the price of the car. If the highway miles per gallon is 20, we can input this value into the model to obtain a prediction of $22,000. In order to determine the line, we take data points from our data set marked in red here. We then use these training points to fit our model. The results of the training points are the parameters. We usually store the data points in two data frame or NumPy arrays. The value we would like to predict is called the target that we store in the array y. We store the dependent variable in the data frame or array x. Each sample corresponds to a different row in each data frame or array. In many cases, many factors influence how much people paid for a car, for example, make or how old the car is. In this model, this uncertainty is taken into account by assuming a small random value is added to the point on the line. This is called noise. The figure on the left shows the distribution of the noise. The vertical axis shows the value added and the horizontal axis illustrates the probability that the value will be added. Usually a small positive value is added or a small negative value.\n",
    "\n",
    "> Sometimes large values are added, but for the most part, the values added are near zero.\n",
    "\n",
    "> We can summarize the process like this. We have a set of training points. We use these training points to fit or train the model and get parameters. We then use these parameters in the model, we now have a model. We use the hat on the y to denote the model is an estimate. We can use this model to predict values that we haven't seen, for example, we have no car with 20 highway miles per gallon. We can use our model to make a prediction for the price of this car but don't forget our model is not always correct. We can see this by comparing the predicted value to the actual value. We have a sample for ten highway miles per gallon, but the predicted value does not match the actual value. If the linear assumption is correct, this error is due to the noise but there can be other reasons. To fit the model in Python, first we import linear model from scikit-learn. Then create a linear regression object using the constructor. We define the predictor variable and target variable. Then use the method fit to fit the model and find the parameters b0 and b1, the input are the features and the targets. We can obtain a prediction using the method predict. The output is an array. The array has the same number of samples as the input x. The intercept b0 is an attribute of the object lm the slope b1 is also an attribute of the object lm. The relationship between price and highway miles per gallon is given by this equation in bold: price = 38,423.31 - 821.73 times highway miles per gallon, like the equation we discussed before.\n",
    "\n",
    "> Multiple linear regression is used to explain the relationship between one continuous target (y) variable and two or more predictor (x) variables.\n",
    "\n",
    "> If we have, for example, four predictor variables, then b0 intercept x=0, b1, the coefficient or parameter of x1, b2, the coefficient of parameter x2, and so on. If there are only two variables, then we can visualize the values. Consider the following function the variables x1 and x2 can be visualized on a 2D plane, let's do an example on the next slide. The table contains different values of the predictor variables x1 and x2. The position of each point is placed on the 2D plane, color coded accordingly. Each value of the predictor variables x1 and x2 will be mapped to a new value y, y hat. The new values of y, y hat, are mapped in the vertical direction with height proportional to the value that y hat takes.\n",
    "\n",
    "> We can fit the multiple linear regression as follows. We can extract the four predictor variables and store them in the variable z then train the model as before using the method fit or dependent variables and the targets colon. We can also obtain a prediction using the method predict. In this case, the input is an Array or data frame with four columns. The number of rows corresponds to the number of samples. The output is an array with the same number of elements as number of samples. The intercept is an attribute of the object and the coefficients are also attributes. It is helpful to visualize the equation replacing the independent variable names with actual names. This is identical to the form we discussed earlier."
   ]
  },
  {
   "cell_type": "markdown",
   "id": "f90f5521",
   "metadata": {},
   "source": [
    "#### **Linear Regression and Multiple Linear Regression**"
   ]
  },
  {
   "cell_type": "markdown",
   "id": "8c29de87",
   "metadata": {},
   "source": [
    "#### **Introduction**\n",
    "\n",
    "- Linear regression will refer to one independent variable to make a prediction\n",
    "\n",
    "    <img src='./img/Linear Regression - one independent variable.PNG' alt='Linear Regression' width='60%'>\n",
    "\n",
    "- Multiple Linear Regression will refre to multiple independent variables to make a prediction\n",
    "\n",
    "    <img src='./img/Linear Regression - Multiple independent variables.PNG' alt='Multiple Linear Regression' width='60%'>"
   ]
  },
  {
   "cell_type": "markdown",
   "id": "6ad289d6",
   "metadata": {},
   "source": [
    "#### **Simple linear regression**\n",
    "\n",
    "1. The predictor (independent) varialbe - x\n",
    "2. The target (dependent) variable - y\n",
    "\n",
    "    <img src='./img/Simple linear regression 01.PNG' alt='Simple Linear Regression' width='60%'>"
   ]
  },
  {
   "cell_type": "markdown",
   "id": "8b380008",
   "metadata": {},
   "source": [
    "#### **Simple linear regression: Prediction**\n",
    "\n",
    "If we assume there is a linear relationship between these variables, we can use this relationship to formulate a model to determine the price of the car.\n",
    "\n",
    "<img src='./img/Simple linear regression Prediction.PNG' alt='Simple Linear Regression' width='60%'>\n",
    "\n",
    "If the highway miles per gallon is 20, we can input this value into the model to obtain a prediction of $22,000."
   ]
  },
  {
   "cell_type": "markdown",
   "id": "cc19cf45",
   "metadata": {},
   "source": [
    "#### **Simple linear regression: Fit**\n",
    "\n",
    "In order to determine the line, we take data points from our data set marked in red here. We then use these training points to fit our model. The results of the training points are the parameters.\n",
    "\n",
    "<img src='./img/Simple linear regression Fit 01.PNG' alt='Simple Linear Regression Fit' width='60%'>"
   ]
  },
  {
   "cell_type": "markdown",
   "id": "f810a0b9",
   "metadata": {},
   "source": [
    "We usually store the data points in two data frame or NumPy arrays. The value we would like to predict is called the target that we store in the array y. We store the dependent variable in the data frame or array x. Each sample corresponds to a different row in each data frame or array.\n",
    "\n",
    "<img src='./img/Simple linear regression Fit 02.PNG' alt='Simple Linear Regression Fit' width='60%'>"
   ]
  },
  {
   "cell_type": "markdown",
   "id": "ec125878",
   "metadata": {},
   "source": [
    "In many cases, many factors influence how much people paid for a car, for example, make or how old the car is. In this model, this uncertainty is taken into account by assuming a small random value is added to the point on the line. This is called noise. The figure on the left shows the distribution of the noise. The vertical axis shows the value added and the horizontal axis illustrates the probability that the value will be added. Usually a small positive value is added or a small negative value.\n",
    "\n",
    "<img src='./img/Simple linear regression Fit 03.PNG' alt='Simple Linear Regression Fit' width='60%'>"
   ]
  },
  {
   "cell_type": "markdown",
   "id": "5334162a",
   "metadata": {},
   "source": [
    "#### **Simple linear regression: Summary**\n",
    "\n",
    "We can summarize the process like this. We have a set of training points. We use these training points to fit or train the model and get parameters. We then use these parameters in the model, we now have a model. We use the hat on the y to denote the model is an estimate. We can use this model to predict values that we haven't seen, for example, we have no car with 20 highway miles per gallon. We can use our model to make a prediction for the price of this car but don't forget our model is not always correct. We can see this by comparing the predicted value to the actual value. We have a sample for ten highway miles per gallon, but the predicted value does not match the actual value. If the linear assumption is correct, this error is due to the noise but there can be other reasons\n",
    "\n",
    "<img src='./img/Simple linear regression 02.PNG' alt='Simple Linear Regression' width='60%'>"
   ]
  },
  {
   "cell_type": "markdown",
   "id": "0772ecc2",
   "metadata": {},
   "source": [
    "#### **Fitting a simple linear model estimator**\n",
    "\n",
    "- X: Predictor variable\n",
    "- Y: Targer variable\n",
    "\n",
    "    1. Import linear_model from scikit-learn\n",
    "\n",
    "    ```python\n",
    "        from sklearn.linear_model import LinearRegression\n",
    "    ```\n",
    "\n",
    "    2. Create a Linear Regression Object using the constructor:\n",
    "\n",
    "    ```python\n",
    "        lm = LinearRegression()\n",
    "    ```\n"
   ]
  },
  {
   "cell_type": "markdown",
   "id": "7f2ef07e",
   "metadata": {},
   "source": [
    "#### **Fitting a simple linear model**\n",
    "\n",
    "- We define ther predictor variable and target variable\n",
    "```python\n",
    "    X = df[['highway-mpg']]\n",
    "    Y = df['price']\n",
    "```\n",
    "- Then use lm.fit(X, Y) to fit the model, i.e find the parameters **b**<sub>**0**</sub> and **b**<sub>**1**</sub>\n",
    "```python\n",
    "    lm.fix(X, Y)\n",
    "```\n",
    "- We can obtain a prediction\n",
    "    ```python\n",
    "    Yhat = lm.predict(X)\n",
    "    ```\n",
    "\n",
    "    |  Yhat |   X  |\n",
    "    | ----- | -----|\n",
    "    |   2   |   5  |\n",
    "    |  ...  | ...  |\n",
    "    |   3   |  4   |"
   ]
  },
  {
   "cell_type": "code",
   "execution_count": 2,
   "id": "e17dc59f",
   "metadata": {},
   "outputs": [
    {
     "data": {
      "text/html": [
       "<div>\n",
       "<style scoped>\n",
       "    .dataframe tbody tr th:only-of-type {\n",
       "        vertical-align: middle;\n",
       "    }\n",
       "\n",
       "    .dataframe tbody tr th {\n",
       "        vertical-align: top;\n",
       "    }\n",
       "\n",
       "    .dataframe thead th {\n",
       "        text-align: right;\n",
       "    }\n",
       "</style>\n",
       "<table border=\"1\" class=\"dataframe\">\n",
       "  <thead>\n",
       "    <tr style=\"text-align: right;\">\n",
       "      <th></th>\n",
       "      <th>symboling</th>\n",
       "      <th>normalized-losses</th>\n",
       "      <th>wheel-base</th>\n",
       "      <th>length</th>\n",
       "      <th>width</th>\n",
       "      <th>height</th>\n",
       "      <th>curb-weight</th>\n",
       "      <th>engine-size</th>\n",
       "      <th>bore</th>\n",
       "      <th>stroke</th>\n",
       "      <th>compression-ratio</th>\n",
       "      <th>horsepower</th>\n",
       "      <th>peak-rpm</th>\n",
       "      <th>city-mpg</th>\n",
       "      <th>highway-mpg</th>\n",
       "      <th>price</th>\n",
       "      <th>city-L/100km</th>\n",
       "      <th>diesel</th>\n",
       "      <th>gas</th>\n",
       "    </tr>\n",
       "  </thead>\n",
       "  <tbody>\n",
       "    <tr>\n",
       "      <th>count</th>\n",
       "      <td>201.000000</td>\n",
       "      <td>201.00000</td>\n",
       "      <td>201.000000</td>\n",
       "      <td>201.000000</td>\n",
       "      <td>201.000000</td>\n",
       "      <td>201.000000</td>\n",
       "      <td>201.000000</td>\n",
       "      <td>201.000000</td>\n",
       "      <td>201.000000</td>\n",
       "      <td>197.000000</td>\n",
       "      <td>201.000000</td>\n",
       "      <td>201.000000</td>\n",
       "      <td>201.000000</td>\n",
       "      <td>201.000000</td>\n",
       "      <td>201.000000</td>\n",
       "      <td>201.000000</td>\n",
       "      <td>201.000000</td>\n",
       "      <td>201.000000</td>\n",
       "      <td>201.000000</td>\n",
       "    </tr>\n",
       "    <tr>\n",
       "      <th>mean</th>\n",
       "      <td>0.840796</td>\n",
       "      <td>122.00000</td>\n",
       "      <td>98.797015</td>\n",
       "      <td>0.837102</td>\n",
       "      <td>0.915126</td>\n",
       "      <td>53.766667</td>\n",
       "      <td>2555.666667</td>\n",
       "      <td>126.875622</td>\n",
       "      <td>3.330692</td>\n",
       "      <td>3.256904</td>\n",
       "      <td>10.164279</td>\n",
       "      <td>103.405534</td>\n",
       "      <td>5117.665368</td>\n",
       "      <td>25.179104</td>\n",
       "      <td>30.686567</td>\n",
       "      <td>13207.129353</td>\n",
       "      <td>9.944145</td>\n",
       "      <td>0.099502</td>\n",
       "      <td>0.900498</td>\n",
       "    </tr>\n",
       "    <tr>\n",
       "      <th>std</th>\n",
       "      <td>1.254802</td>\n",
       "      <td>31.99625</td>\n",
       "      <td>6.066366</td>\n",
       "      <td>0.059213</td>\n",
       "      <td>0.029187</td>\n",
       "      <td>2.447822</td>\n",
       "      <td>517.296727</td>\n",
       "      <td>41.546834</td>\n",
       "      <td>0.268072</td>\n",
       "      <td>0.319256</td>\n",
       "      <td>4.004965</td>\n",
       "      <td>37.365700</td>\n",
       "      <td>478.113805</td>\n",
       "      <td>6.423220</td>\n",
       "      <td>6.815150</td>\n",
       "      <td>7947.066342</td>\n",
       "      <td>2.534599</td>\n",
       "      <td>0.300083</td>\n",
       "      <td>0.300083</td>\n",
       "    </tr>\n",
       "    <tr>\n",
       "      <th>min</th>\n",
       "      <td>-2.000000</td>\n",
       "      <td>65.00000</td>\n",
       "      <td>86.600000</td>\n",
       "      <td>0.678039</td>\n",
       "      <td>0.837500</td>\n",
       "      <td>47.800000</td>\n",
       "      <td>1488.000000</td>\n",
       "      <td>61.000000</td>\n",
       "      <td>2.540000</td>\n",
       "      <td>2.070000</td>\n",
       "      <td>7.000000</td>\n",
       "      <td>48.000000</td>\n",
       "      <td>4150.000000</td>\n",
       "      <td>13.000000</td>\n",
       "      <td>16.000000</td>\n",
       "      <td>5118.000000</td>\n",
       "      <td>4.795918</td>\n",
       "      <td>0.000000</td>\n",
       "      <td>0.000000</td>\n",
       "    </tr>\n",
       "    <tr>\n",
       "      <th>25%</th>\n",
       "      <td>0.000000</td>\n",
       "      <td>101.00000</td>\n",
       "      <td>94.500000</td>\n",
       "      <td>0.801538</td>\n",
       "      <td>0.890278</td>\n",
       "      <td>52.000000</td>\n",
       "      <td>2169.000000</td>\n",
       "      <td>98.000000</td>\n",
       "      <td>3.150000</td>\n",
       "      <td>3.110000</td>\n",
       "      <td>8.600000</td>\n",
       "      <td>70.000000</td>\n",
       "      <td>4800.000000</td>\n",
       "      <td>19.000000</td>\n",
       "      <td>25.000000</td>\n",
       "      <td>7775.000000</td>\n",
       "      <td>7.833333</td>\n",
       "      <td>0.000000</td>\n",
       "      <td>1.000000</td>\n",
       "    </tr>\n",
       "    <tr>\n",
       "      <th>50%</th>\n",
       "      <td>1.000000</td>\n",
       "      <td>122.00000</td>\n",
       "      <td>97.000000</td>\n",
       "      <td>0.832292</td>\n",
       "      <td>0.909722</td>\n",
       "      <td>54.100000</td>\n",
       "      <td>2414.000000</td>\n",
       "      <td>120.000000</td>\n",
       "      <td>3.310000</td>\n",
       "      <td>3.290000</td>\n",
       "      <td>9.000000</td>\n",
       "      <td>95.000000</td>\n",
       "      <td>5125.369458</td>\n",
       "      <td>24.000000</td>\n",
       "      <td>30.000000</td>\n",
       "      <td>10295.000000</td>\n",
       "      <td>9.791667</td>\n",
       "      <td>0.000000</td>\n",
       "      <td>1.000000</td>\n",
       "    </tr>\n",
       "    <tr>\n",
       "      <th>75%</th>\n",
       "      <td>2.000000</td>\n",
       "      <td>137.00000</td>\n",
       "      <td>102.400000</td>\n",
       "      <td>0.881788</td>\n",
       "      <td>0.925000</td>\n",
       "      <td>55.500000</td>\n",
       "      <td>2926.000000</td>\n",
       "      <td>141.000000</td>\n",
       "      <td>3.580000</td>\n",
       "      <td>3.410000</td>\n",
       "      <td>9.400000</td>\n",
       "      <td>116.000000</td>\n",
       "      <td>5500.000000</td>\n",
       "      <td>30.000000</td>\n",
       "      <td>34.000000</td>\n",
       "      <td>16500.000000</td>\n",
       "      <td>12.368421</td>\n",
       "      <td>0.000000</td>\n",
       "      <td>1.000000</td>\n",
       "    </tr>\n",
       "    <tr>\n",
       "      <th>max</th>\n",
       "      <td>3.000000</td>\n",
       "      <td>256.00000</td>\n",
       "      <td>120.900000</td>\n",
       "      <td>1.000000</td>\n",
       "      <td>1.000000</td>\n",
       "      <td>59.800000</td>\n",
       "      <td>4066.000000</td>\n",
       "      <td>326.000000</td>\n",
       "      <td>3.940000</td>\n",
       "      <td>4.170000</td>\n",
       "      <td>23.000000</td>\n",
       "      <td>262.000000</td>\n",
       "      <td>6600.000000</td>\n",
       "      <td>49.000000</td>\n",
       "      <td>54.000000</td>\n",
       "      <td>45400.000000</td>\n",
       "      <td>18.076923</td>\n",
       "      <td>1.000000</td>\n",
       "      <td>1.000000</td>\n",
       "    </tr>\n",
       "  </tbody>\n",
       "</table>\n",
       "</div>"
      ],
      "text/plain": [
       "        symboling  normalized-losses  wheel-base      length       width  \\\n",
       "count  201.000000          201.00000  201.000000  201.000000  201.000000   \n",
       "mean     0.840796          122.00000   98.797015    0.837102    0.915126   \n",
       "std      1.254802           31.99625    6.066366    0.059213    0.029187   \n",
       "min     -2.000000           65.00000   86.600000    0.678039    0.837500   \n",
       "25%      0.000000          101.00000   94.500000    0.801538    0.890278   \n",
       "50%      1.000000          122.00000   97.000000    0.832292    0.909722   \n",
       "75%      2.000000          137.00000  102.400000    0.881788    0.925000   \n",
       "max      3.000000          256.00000  120.900000    1.000000    1.000000   \n",
       "\n",
       "           height  curb-weight  engine-size        bore      stroke  \\\n",
       "count  201.000000   201.000000   201.000000  201.000000  197.000000   \n",
       "mean    53.766667  2555.666667   126.875622    3.330692    3.256904   \n",
       "std      2.447822   517.296727    41.546834    0.268072    0.319256   \n",
       "min     47.800000  1488.000000    61.000000    2.540000    2.070000   \n",
       "25%     52.000000  2169.000000    98.000000    3.150000    3.110000   \n",
       "50%     54.100000  2414.000000   120.000000    3.310000    3.290000   \n",
       "75%     55.500000  2926.000000   141.000000    3.580000    3.410000   \n",
       "max     59.800000  4066.000000   326.000000    3.940000    4.170000   \n",
       "\n",
       "       compression-ratio  horsepower     peak-rpm    city-mpg  highway-mpg  \\\n",
       "count         201.000000  201.000000   201.000000  201.000000   201.000000   \n",
       "mean           10.164279  103.405534  5117.665368   25.179104    30.686567   \n",
       "std             4.004965   37.365700   478.113805    6.423220     6.815150   \n",
       "min             7.000000   48.000000  4150.000000   13.000000    16.000000   \n",
       "25%             8.600000   70.000000  4800.000000   19.000000    25.000000   \n",
       "50%             9.000000   95.000000  5125.369458   24.000000    30.000000   \n",
       "75%             9.400000  116.000000  5500.000000   30.000000    34.000000   \n",
       "max            23.000000  262.000000  6600.000000   49.000000    54.000000   \n",
       "\n",
       "              price  city-L/100km      diesel         gas  \n",
       "count    201.000000    201.000000  201.000000  201.000000  \n",
       "mean   13207.129353      9.944145    0.099502    0.900498  \n",
       "std     7947.066342      2.534599    0.300083    0.300083  \n",
       "min     5118.000000      4.795918    0.000000    0.000000  \n",
       "25%     7775.000000      7.833333    0.000000    1.000000  \n",
       "50%    10295.000000      9.791667    0.000000    1.000000  \n",
       "75%    16500.000000     12.368421    0.000000    1.000000  \n",
       "max    45400.000000     18.076923    1.000000    1.000000  "
      ]
     },
     "execution_count": 2,
     "metadata": {},
     "output_type": "execute_result"
    }
   ],
   "source": [
    "from sklearn.linear_model import LinearRegression\n",
    "import pandas as pd\n",
    "\n",
    "df = pd.read_csv(r\".\\data\\usedcars.csv\")\n",
    "df.describe()"
   ]
  },
  {
   "cell_type": "code",
   "execution_count": 10,
   "id": "1ac5fb17",
   "metadata": {},
   "outputs": [],
   "source": [
    "lm = LinearRegression()\n",
    "X = df[['highway-mpg']]\n",
    "Y = df['price']\n",
    "lm.fit(X, Y)\n",
    "Yhat = lm.predict(X)"
   ]
  },
  {
   "cell_type": "code",
   "execution_count": 11,
   "id": "5bdfb05f",
   "metadata": {},
   "outputs": [
    {
     "name": "stdout",
     "output_type": "stream",
     "text": [
      "Predicted price for highway-mpg 27: 16236.504643465414\n",
      "Predicted price for highway-mpg 27: 16236.504643465414\n",
      "Predicted price for highway-mpg 26: 17058.23802178734\n",
      "Predicted price for highway-mpg 30: 13771.304508499637\n",
      "Predicted price for highway-mpg 22: 20345.171535075042\n"
     ]
    }
   ],
   "source": [
    "for i in range(5):\n",
    "    print(f\"Predicted price for highway-mpg {X.iloc[i, 0]}: {Yhat[i]}\") "
   ]
  },
  {
   "cell_type": "markdown",
   "id": "f3dd36e2",
   "metadata": {},
   "source": [
    "#### **SLR - Estimated linear model**\n",
    "\n",
    "- We can view the intercept (b<sub>0</sub>): `lm.intercept`_38423.305858\n",
    "- We can also view the slope(b<sub>1</sub>): `lm.coef`_-821.7337832\n",
    "\n",
    "- The Relationship between Price and Highway MPG is giveng by:\n",
    "\n",
    "    <img src='./img/SLR - Estimated linear model.PNG' alt='SLR - Estimated linear model' width='60%'>\n"
   ]
  },
  {
   "cell_type": "code",
   "execution_count": 12,
   "id": "b81fc971",
   "metadata": {},
   "outputs": [
    {
     "name": "stdout",
     "output_type": "stream",
     "text": [
      "Intercept: 38423.3058581574, Coefficient: -821.7333783219254\n"
     ]
    }
   ],
   "source": [
    "print(f\"Intercept: {lm.intercept_}, Coefficient: {lm.coef_[0]}\")"
   ]
  },
  {
   "cell_type": "markdown",
   "id": "f78f9d16",
   "metadata": {},
   "source": [
    "#### **Multiple Linear Regression (MLR)**\n",
    "\n",
    "This mechod is used to explain the relationship between:\n",
    "\n",
    "- One continuous target(Y) varialbe\n",
    "- Two or more predictor(X) variable"
   ]
  },
  {
   "cell_type": "markdown",
   "id": "86ee555b",
   "metadata": {},
   "source": [
    "If we have, for example, four predictor variables, then b0 intercept x=0, b1, the coefficient or parameter of x1, b2, the coefficient of parameter x2, and so on.\n",
    "\n",
    "<img src='./img/Multiple Linear Regression 01.PNG' alt='Multiple Linear Regression' width='60%'>\n",
    "\n",
    "If there are only two variables, then we can visualize the values. Consider the following function the variables x1 and x2 can be visualized on a 2D plane, let's do an example on the next slide.\n",
    "\n",
    "<img src='./img/Multiple Linear Regression 04.PNG' alt='Multiple Linear Regression' width='60%'>\n",
    "\n",
    "The table contains different values of the predictor variables x1 and x2. The position of each point is placed on the 2D plane, color coded accordingly.\n",
    "\n",
    "<img src='./img/Multiple Linear Regression 02.PNG' alt='Multiple Linear Regression' width='60%'>\n",
    "\n",
    "Each value of the predictor variables x1 and x2 will be mapped to a new value y, y hat. The new values of y, y hat, are mapped in the vertical direction with height proportional to the value that y hat takes.\n",
    "\n",
    "<img src='./img/Multiple Linear Regression 03.PNG' alt='Multiple Linear Regression' width='60%'>"
   ]
  },
  {
   "cell_type": "markdown",
   "id": "009ae67f",
   "metadata": {},
   "source": [
    "#### **Fitting a multiple linaer model estimator**\n",
    "\n",
    "1. We can extract the for 4 predictor varialbes and store them in the variable Z\n",
    "    ```python\n",
    "    Z = df[['horsepower', 'curb-weight', 'engine-size', 'highway-mpg']]\n",
    "    ```\n",
    "2. Then train the model as before:\n",
    "    ```python\n",
    "    lm.fit(Z, df['price'])\n",
    "    ```\n",
    "3. We can also obtain a prediction\n",
    "    ```python\n",
    "    Yhat = lm.predict(X)\n",
    "    ```\n",
    "\n",
    "    <img src='./img/Fitting multiple linear regression model estimator.PNG' alt='Fitting multiple linear regression model estimator' width='40%'>"
   ]
  },
  {
   "cell_type": "code",
   "execution_count": 15,
   "id": "7fc71a3d",
   "metadata": {},
   "outputs": [],
   "source": [
    "lm = LinearRegression()\n",
    "Z = df[['horsepower', 'curb-weight', 'engine-size', 'highway-mpg']]\n",
    "lm.fit(Z, df['price'])\n",
    "Yhat = lm.predict(Z)"
   ]
  },
  {
   "cell_type": "markdown",
   "id": "98089251",
   "metadata": {},
   "source": [
    "#### **MLR - Estimated linear model**\n",
    "\n",
    "1. Find the intercept (b<sub>0</sub>)\n",
    "    ```python\n",
    "    lm.intercept_\n",
    "    -15678.742628061467\n",
    "    ```\n",
    "2. Find the coefficients (b<sub>1</sub>, b<sub>2</sub>, b<sub>3</sub>, b<sub>4</sub>)\n",
    "    ```python\n",
    "    lm.coef_\n",
    "    array([52.65851272, 4.69878948, 81.959062616, 33.58258185])\n",
    "    ```\n",
    "\n",
    "The Estimated Linear Model:\n",
    "\n",
    "<img src='./img/MLR - Estimated linear model.PNG' alt='MLR - Estimated linear model' width='60%'>"
   ]
  },
  {
   "cell_type": "code",
   "execution_count": 19,
   "id": "19bfc577",
   "metadata": {},
   "outputs": [
    {
     "name": "stdout",
     "output_type": "stream",
     "text": [
      "Intercept: -15806.62462632923, Coefficient: [53.49574423  4.70770099 81.53026382 36.05748882]\n"
     ]
    }
   ],
   "source": [
    "print(f\"Intercept: {lm.intercept_}, Coefficient: {lm.coef_}\")"
   ]
  },
  {
   "cell_type": "code",
   "execution_count": 16,
   "id": "a6fbcaf2",
   "metadata": {},
   "outputs": [
    {
     "name": "stdout",
     "output_type": "stream",
     "text": [
      "Predicted price for highway-mpg 27: 13699.111611843258\n",
      "Predicted price for highway-mpg 27: 13699.111611843258\n",
      "Predicted price for highway-mpg 26: 19051.654702332733\n",
      "Predicted price for highway-mpg 30: 10620.361930148953\n",
      "Predicted price for highway-mpg 22: 15521.314202105841\n"
     ]
    }
   ],
   "source": [
    "for i in range(5):\n",
    "    print(f\"Predicted price for highway-mpg {X.iloc[i, 0]}: {Yhat[i]}\")"
   ]
  },
  {
   "cell_type": "markdown",
   "id": "e535eade",
   "metadata": {},
   "source": [
    "### **Video:** Model Eveluation Using Visualization\n",
    "\n",
    "> *Transcript:*\n",
    "> \n",
    "> In this video, we'll look at model evaluation using visualization. Regression plots are a good estimate of the relationship between two variables, the strength of the correlation and the direction of the relationship, positive or negative. The horizontal axis is the independent variable. The vertical axis is the dependent variable. Each point represents a different target point. The fitted line represents the predicted value. There are several ways to plot a regression plot. A simple way is to use regplot from the Seaborn library. First, import Seaborn, then use the regplot function. The parameter x is the name of the column that contains the independent variable or feature. The parameter y contains the name of the column that contains the name of the dependent variable or target. The parameter data is the name of the dataframe. The result is given by the plot. The residual plot represents the error between the actual value. Examining the predicted value and actual value, we see a difference. We obtained that value by subtracting the predicted value and the actual target value. We then plot that value on the vertical axis with the dependent variable as the horizontal axis. Similarly, for the second sample, we repeat the process, subtracting the target value from the predicted value, then plotting the value accordingly. Looking at the plot gives us some insight into our data. We expect to see the results to have zero mean distributed evenly around the x-axis with similar variance. There is no curvature. This type of residual plot suggests a linear plot is appropriate. In this residual plot, there is a curvature. The values of the error change with x. For example, in the region all the residual errors are positive. In this area, the residuals are negative. In the final location, the error is large. The residuals are not randomly separated. This suggests the linear assumption is incorrect. This plot suggests a nonlinear function. We will deal with this in the next section. In this plot, we see that variance of the residuals increases with x. Therefore, our model is incorrect. We can use Seaborn to create a residual plot. First, import Seaborn, we use the residplot function.\n",
    "\n",
    "> The first parameter is a series of dependent variable or feature. The second parameter is a series of dependent variable or target. We see in this case the residuals have a curvature.\n",
    "\n",
    "> A distribution plot counts the predicted value versus the actual value. These plots are extremely useful for visualizing models with more than one independent variable or feature. Let's look at a simplified example. We examine the vertical axis. We then count and plot the number of predicted points that are approximately equal to one. We then count and plot the number of predicted points that are approximately equal to two. We repeat the process for predicted points that are approximately equal to three. Then we repeat the process for the target values. In this case, all the target values are approximately equal to two. The values are the targets and predicted values are continuous. A histogram is for discrete values. Therefore Pandas will convert them to a distribution. The vertical axis is scaled to make the area under the distribution equal to one. This is an example of using a distribution plot. The dependent variable or feature is price. The fitted values that result from the model are in blue. The actual values are in red. We see the predicted values for prices in the range from 40,000 to 50,000 are inaccurate. The prices in the region from 10,000 to 20,000 are much closer to the target value. In this example, we use multiple features or independent variables comparing it to the plot on the last slide. We see predicted values are much closer to the target values. Here is the code to create a distribution plot. The actual values are used as a parameter. We want a distribution instead of a histogram. So we want the hist parameters set to false. The color is red. The label is also included. The predicted values are included for the second plot. The rest of the parameters are set accordingly. [MUSIC]\n"
   ]
  }
 ],
 "metadata": {
  "kernelspec": {
   "display_name": ".venv",
   "language": "python",
   "name": "python3"
  },
  "language_info": {
   "codemirror_mode": {
    "name": "ipython",
    "version": 3
   },
   "file_extension": ".py",
   "mimetype": "text/x-python",
   "name": "python",
   "nbconvert_exporter": "python",
   "pygments_lexer": "ipython3",
   "version": "3.13.3"
  }
 },
 "nbformat": 4,
 "nbformat_minor": 5
}
