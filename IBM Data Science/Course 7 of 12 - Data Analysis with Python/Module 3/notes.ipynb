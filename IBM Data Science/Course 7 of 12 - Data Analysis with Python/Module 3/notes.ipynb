{
 "cells": [
  {
   "cell_type": "markdown",
   "id": "3c53bfd8",
   "metadata": {},
   "source": [
    "[Data Analysis with Python](https://www.coursera.org/learn/data-analysis-with-python/home/welcome) > [Module 3](https://www.coursera.org/learn/data-analysis-with-python/home/module/3) > [Exploratory Data Analysis](https://www.coursera.org/learn/data-analysis-with-python/lecture/iNeWs/exploratory-data-analysis#)"
   ]
  },
  {
   "cell_type": "markdown",
   "id": "91a2a4b0",
   "metadata": {},
   "source": [
    "## **Exploratory Data Analysis**"
   ]
  },
  {
   "cell_type": "markdown",
   "id": "4846f977",
   "metadata": {},
   "source": [
    "### **Video:** Exploratory Data Analysis\n",
    "\n",
    "> *Transcript:*\n",
    "> \n",
    "> In this module, we're going to cover the basics of exploratory data analysis using Python. Exploratory data analysis or in short, EDA, is an approach to analyze data in order to summarize main characteristics of the data, gain better understanding of the data set, uncover relationships between different variables and extract important variables for the problem we're trying to solve. The main question we are trying to answer in this module is, what are the characteristics that have the most impact on the car price? We will be going through a couple of different useful exploratory data analysis techniques in order to answer this question. In this module, you will learn about, descriptive statistics, which describe basic features of a data set and obtains a short summary about the sample and measures of the data. Basic of grouping data using GroupBy and how this can help to transform our data set. ANOVA, the analysis of variance a statistical method in which the variation in a set of observations is divided into distinct components. The correlation between different variables. And lastly, advanced correlation, where we'll introduce you to various correlation statistical methods, namely Pearson correlation and correlation heatmaps."
   ]
  },
  {
   "cell_type": "markdown",
   "id": "235f7ca6",
   "metadata": {},
   "source": [
    "#### **Exploratory Data Analysis (EDA)**\n",
    "\n",
    "- Preliminary step in dta analysis to:\n",
    "\n",
    "    - Sumarize main charateristics of the data\n",
    "    - Gain better understanding of the data set\n",
    "    - Uncover relationships between variables\n",
    "    - Extract important variables\n",
    "\n",
    "- Question:\n",
    "\n",
    "    **\"What are the characteristics which have the most impact on the car price?\"**\n"
   ]
  },
  {
   "cell_type": "markdown",
   "id": "f7886aad",
   "metadata": {},
   "source": [
    "#### **Learning Objectives**\n",
    "\n",
    "- In this lesson you will learn about:\n",
    "\n",
    "    - Descriptive Statistics\n",
    "    - GroupBy\n",
    "    - ANOVA\n",
    "    - Correlation\n",
    "    - Correlation - Statistics    "
   ]
  },
  {
   "cell_type": "markdown",
   "id": "7d428eae",
   "metadata": {},
   "source": [
    "### **Video:** Descriptive Statistics\n",
    "\n",
    "> *Transcript:*\n",
    "> \n",
    "> In this video, we'll be talking about descriptive statistics. When you begin to analyze data, it's important to first explore your data before you spend time building complicated models. One easy way to do so is to calculate some descriptive statistics for your data. Descriptive statistical analysis helps to describe basic features of a dataset and obtains a short summary about the sample and measures of the data. Let's show you a couple different useful methods. One way in which we can do this is by using the describe function in pandas. Using the describe function and applying it on your data frame, a describe function automatically computes basic statistics for all numerical variables. It shows the mean, the total number of data points, the standard deviation, the quartiles, and the extreme values. Any NaN values are automatically skipped in these statistics. This function will give you a clearer idea of the distribution of your different variables. You could have also categorical variables in your dataset. These are variables that can be divided up into different categories or groups and have discrete values. For example, in our dataset, we have the drive system as a categorical variable, which consists of the categories forward wheel-drive, rear wheel-drive, and four wheel-drive. One way you can summarize the categorical data is by using the function value_counts. We can change the name of the column to make it easier to read. We see that we have 118 cars in the front wheel-drive category, 75 cars in the rear wheel-drive category, and eight cars in the four wheel-drive category. Box plots are a great way to visualize numeric data, since you can visualize the various distributions of the data. The main features that the box plot shows are the median of the data which represents where the middle data point is, the upper quartile shows where the 75th percentile is, the lower quartile shows where the 25th percentile is. The data between the upper and lower quartile represents the inter-quartile range. Next, you have the lower and upper extremes. These are calculated as 1.5 times the inter-quartile range above the 75th percentile, and as 1.5 times the IQR below the 25th percentile. Finally, box plots also display outliers as individual dots that occur outside the upper and lower extremes. With box plots, you can easily spot outliers and also see the distribution and skewness of the data. Box plots make it easy to compare between groups. In this example, using box plot, we can see the distribution of different categories of the drive-wheels feature over price feature. We can see that the distribution of price between the rear wheel-drive and the other categories are distinct. But the price for front wheel-drive and four wheel-drive are almost indistinguishable. Oftentimes, we tend to see continuous variables in our data. These data points are numbers contained in some range. For example, in our dataset, price and engine size are continuous variables. What if we want to understand the relationship between engine size and price? Could engine size possibly predict the price of a car? One good way to visualize this is using a scatter plot. Each observation in a scatter plot is represented as a point. This plot shows the relationship between two variables. The predictor variable is the variable that you are using to predict an outcome. In this case, our predictor variable is the engine size. The target variable is the variable that you are trying to predict. In this case, our target variable is the price since this would be the outcome. In a scatter plot, we typically set the predictor variable on the x-axis or horizontal axis, and we set the target variable on the y-axis or vertical axis. In this case, we will thus plot the engine size on the x-axis and the price on the y-axis. We are using the Matplotlib function scatter here, taking in x and a y variable. Something to note is that it's always important to label your axes and write a general plot title so that you know what you're looking at. Now, how is the variable engine size related to price? From the scatter plot, we see that as the engine size goes up, the price of the car also goes up. This is giving us an initial indication that there is a positive linear relationship between these two variables."
   ]
  },
  {
   "cell_type": "code",
   "execution_count": 1,
   "id": "30932b88",
   "metadata": {},
   "outputs": [],
   "source": [
    "import pandas as pd"
   ]
  },
  {
   "cell_type": "code",
   "execution_count": 3,
   "id": "8d0fbde7",
   "metadata": {},
   "outputs": [
    {
     "data": {
      "text/html": [
       "<div>\n",
       "<style scoped>\n",
       "    .dataframe tbody tr th:only-of-type {\n",
       "        vertical-align: middle;\n",
       "    }\n",
       "\n",
       "    .dataframe tbody tr th {\n",
       "        vertical-align: top;\n",
       "    }\n",
       "\n",
       "    .dataframe thead th {\n",
       "        text-align: right;\n",
       "    }\n",
       "</style>\n",
       "<table border=\"1\" class=\"dataframe\">\n",
       "  <thead>\n",
       "    <tr style=\"text-align: right;\">\n",
       "      <th></th>\n",
       "      <th>drive-wheels</th>\n",
       "      <th>body-style</th>\n",
       "      <th>price</th>\n",
       "    </tr>\n",
       "  </thead>\n",
       "  <tbody>\n",
       "    <tr>\n",
       "      <th>0</th>\n",
       "      <td>4wd</td>\n",
       "      <td>hatchback</td>\n",
       "      <td>7603.000000</td>\n",
       "    </tr>\n",
       "    <tr>\n",
       "      <th>1</th>\n",
       "      <td>4wd</td>\n",
       "      <td>sedan</td>\n",
       "      <td>12647.333333</td>\n",
       "    </tr>\n",
       "    <tr>\n",
       "      <th>2</th>\n",
       "      <td>4wd</td>\n",
       "      <td>wagon</td>\n",
       "      <td>9095.750000</td>\n",
       "    </tr>\n",
       "    <tr>\n",
       "      <th>3</th>\n",
       "      <td>fwd</td>\n",
       "      <td>convertible</td>\n",
       "      <td>11595.000000</td>\n",
       "    </tr>\n",
       "    <tr>\n",
       "      <th>4</th>\n",
       "      <td>fwd</td>\n",
       "      <td>hardtop</td>\n",
       "      <td>8249.000000</td>\n",
       "    </tr>\n",
       "  </tbody>\n",
       "</table>\n",
       "</div>"
      ],
      "text/plain": [
       "  drive-wheels   body-style         price\n",
       "0          4wd    hatchback   7603.000000\n",
       "1          4wd        sedan  12647.333333\n",
       "2          4wd        wagon   9095.750000\n",
       "3          fwd  convertible  11595.000000\n",
       "4          fwd      hardtop   8249.000000"
      ]
     },
     "execution_count": 3,
     "metadata": {},
     "output_type": "execute_result"
    }
   ],
   "source": [
    "# -*- coding: utf-8 -*-\n",
    "data = {\n",
    "    'drive-wheels': ['4wd', '4wd', '4wd', 'fwd', 'fwd', 'fwd', 'fwd', \n",
    "                     'fwd', 'rwd', 'rwd', 'rwd', 'rwd', 'rwd'],\n",
    "    'body-style': ['hatchback', 'sedan', 'wagon', 'convertible', 'hardtop', \n",
    "                   'hatchback', 'sedan', 'wagon', 'convertible', 'hardtop', \n",
    "                   'hatchback', 'sedan', 'wagon'],\n",
    "    'price': [7603.0, 12647.333333, 9095.75, 11595.0, 8249.0, 8396.387755, \n",
    "              9811.8, 9997.333333, 23949.6, 24202.714286, 14337.777778, \n",
    "              21711.833333, 16994.222222]\n",
    "}\n",
    "\n",
    "df = pd.DataFrame(data)\n",
    "df.head()\n"
   ]
  },
  {
   "cell_type": "code",
   "execution_count": 4,
   "id": "0c0c5f30",
   "metadata": {},
   "outputs": [
    {
     "data": {
      "text/html": [
       "<div>\n",
       "<style scoped>\n",
       "    .dataframe tbody tr th:only-of-type {\n",
       "        vertical-align: middle;\n",
       "    }\n",
       "\n",
       "    .dataframe tbody tr th {\n",
       "        vertical-align: top;\n",
       "    }\n",
       "\n",
       "    .dataframe thead th {\n",
       "        text-align: right;\n",
       "    }\n",
       "</style>\n",
       "<table border=\"1\" class=\"dataframe\">\n",
       "  <thead>\n",
       "    <tr style=\"text-align: right;\">\n",
       "      <th></th>\n",
       "      <th>price</th>\n",
       "    </tr>\n",
       "  </thead>\n",
       "  <tbody>\n",
       "    <tr>\n",
       "      <th>count</th>\n",
       "      <td>13.000000</td>\n",
       "    </tr>\n",
       "    <tr>\n",
       "      <th>mean</th>\n",
       "      <td>13737.827080</td>\n",
       "    </tr>\n",
       "    <tr>\n",
       "      <th>std</th>\n",
       "      <td>6064.734417</td>\n",
       "    </tr>\n",
       "    <tr>\n",
       "      <th>min</th>\n",
       "      <td>7603.000000</td>\n",
       "    </tr>\n",
       "    <tr>\n",
       "      <th>25%</th>\n",
       "      <td>9095.750000</td>\n",
       "    </tr>\n",
       "    <tr>\n",
       "      <th>50%</th>\n",
       "      <td>11595.000000</td>\n",
       "    </tr>\n",
       "    <tr>\n",
       "      <th>75%</th>\n",
       "      <td>16994.222222</td>\n",
       "    </tr>\n",
       "    <tr>\n",
       "      <th>max</th>\n",
       "      <td>24202.714286</td>\n",
       "    </tr>\n",
       "  </tbody>\n",
       "</table>\n",
       "</div>"
      ],
      "text/plain": [
       "              price\n",
       "count     13.000000\n",
       "mean   13737.827080\n",
       "std     6064.734417\n",
       "min     7603.000000\n",
       "25%     9095.750000\n",
       "50%    11595.000000\n",
       "75%    16994.222222\n",
       "max    24202.714286"
      ]
     },
     "execution_count": 4,
     "metadata": {},
     "output_type": "execute_result"
    }
   ],
   "source": [
    "df.describe()"
   ]
  },
  {
   "cell_type": "markdown",
   "id": "8c29de87",
   "metadata": {},
   "source": [
    "#### **Descriptive Statistics**\n",
    "\n",
    "- Explore data before building complicated models\n",
    "- Calculate descriptive statistics for your data\n",
    "- Describe basic features of data\n",
    "- Giving short summaries about he sample and measures of the data\n"
   ]
  },
  {
   "cell_type": "markdown",
   "id": "e9f2cab9",
   "metadata": {},
   "source": [
    "#### **Descriptive Statistics: Describe()**\n",
    "\n",
    "- Summarize statistics using pandas **describe()** method\n",
    "\n",
    "    `df.describe()`: describe function automatically computes basic statistics for all numerical variables. It shows the mean, the total number of data points, the standard deviation, the quartiles, and the extreme values. Any NaN values are automatically skipped in these statistics. This function will give you a clearer idea of the distribution of your different variables.\n",
    "\n",
    "    <img src='Describe().PNG' alt='df.describe()' width='60%'>\n",
    "\n"
   ]
  },
  {
   "cell_type": "code",
   "execution_count": 30,
   "id": "65dccee3",
   "metadata": {},
   "outputs": [
    {
     "data": {
      "text/html": [
       "<div>\n",
       "<style scoped>\n",
       "    .dataframe tbody tr th:only-of-type {\n",
       "        vertical-align: middle;\n",
       "    }\n",
       "\n",
       "    .dataframe tbody tr th {\n",
       "        vertical-align: top;\n",
       "    }\n",
       "\n",
       "    .dataframe thead th {\n",
       "        text-align: right;\n",
       "    }\n",
       "</style>\n",
       "<table border=\"1\" class=\"dataframe\">\n",
       "  <thead>\n",
       "    <tr style=\"text-align: right;\">\n",
       "      <th></th>\n",
       "      <th>symboling</th>\n",
       "      <th>normalized-losses</th>\n",
       "      <th>wheel-base</th>\n",
       "      <th>length</th>\n",
       "      <th>width</th>\n",
       "      <th>height</th>\n",
       "      <th>curb-weight</th>\n",
       "      <th>engine-size</th>\n",
       "      <th>bore</th>\n",
       "      <th>stroke</th>\n",
       "      <th>compression-ratio</th>\n",
       "      <th>horsepower</th>\n",
       "      <th>peak-rpm</th>\n",
       "      <th>city-mpg</th>\n",
       "      <th>highway-mpg</th>\n",
       "      <th>price</th>\n",
       "      <th>city-L/100km</th>\n",
       "      <th>diesel</th>\n",
       "      <th>gas</th>\n",
       "    </tr>\n",
       "  </thead>\n",
       "  <tbody>\n",
       "    <tr>\n",
       "      <th>count</th>\n",
       "      <td>201.000000</td>\n",
       "      <td>201.00000</td>\n",
       "      <td>201.000000</td>\n",
       "      <td>201.000000</td>\n",
       "      <td>201.000000</td>\n",
       "      <td>201.000000</td>\n",
       "      <td>201.000000</td>\n",
       "      <td>201.000000</td>\n",
       "      <td>201.000000</td>\n",
       "      <td>197.000000</td>\n",
       "      <td>201.000000</td>\n",
       "      <td>201.000000</td>\n",
       "      <td>201.000000</td>\n",
       "      <td>201.000000</td>\n",
       "      <td>201.000000</td>\n",
       "      <td>201.000000</td>\n",
       "      <td>201.000000</td>\n",
       "      <td>201.000000</td>\n",
       "      <td>201.000000</td>\n",
       "    </tr>\n",
       "    <tr>\n",
       "      <th>mean</th>\n",
       "      <td>0.840796</td>\n",
       "      <td>122.00000</td>\n",
       "      <td>98.797015</td>\n",
       "      <td>0.837102</td>\n",
       "      <td>0.915126</td>\n",
       "      <td>53.766667</td>\n",
       "      <td>2555.666667</td>\n",
       "      <td>126.875622</td>\n",
       "      <td>3.330692</td>\n",
       "      <td>3.256904</td>\n",
       "      <td>10.164279</td>\n",
       "      <td>103.405534</td>\n",
       "      <td>5117.665368</td>\n",
       "      <td>25.179104</td>\n",
       "      <td>30.686567</td>\n",
       "      <td>13207.129353</td>\n",
       "      <td>9.944145</td>\n",
       "      <td>0.099502</td>\n",
       "      <td>0.900498</td>\n",
       "    </tr>\n",
       "    <tr>\n",
       "      <th>std</th>\n",
       "      <td>1.254802</td>\n",
       "      <td>31.99625</td>\n",
       "      <td>6.066366</td>\n",
       "      <td>0.059213</td>\n",
       "      <td>0.029187</td>\n",
       "      <td>2.447822</td>\n",
       "      <td>517.296727</td>\n",
       "      <td>41.546834</td>\n",
       "      <td>0.268072</td>\n",
       "      <td>0.319256</td>\n",
       "      <td>4.004965</td>\n",
       "      <td>37.365700</td>\n",
       "      <td>478.113805</td>\n",
       "      <td>6.423220</td>\n",
       "      <td>6.815150</td>\n",
       "      <td>7947.066342</td>\n",
       "      <td>2.534599</td>\n",
       "      <td>0.300083</td>\n",
       "      <td>0.300083</td>\n",
       "    </tr>\n",
       "    <tr>\n",
       "      <th>min</th>\n",
       "      <td>-2.000000</td>\n",
       "      <td>65.00000</td>\n",
       "      <td>86.600000</td>\n",
       "      <td>0.678039</td>\n",
       "      <td>0.837500</td>\n",
       "      <td>47.800000</td>\n",
       "      <td>1488.000000</td>\n",
       "      <td>61.000000</td>\n",
       "      <td>2.540000</td>\n",
       "      <td>2.070000</td>\n",
       "      <td>7.000000</td>\n",
       "      <td>48.000000</td>\n",
       "      <td>4150.000000</td>\n",
       "      <td>13.000000</td>\n",
       "      <td>16.000000</td>\n",
       "      <td>5118.000000</td>\n",
       "      <td>4.795918</td>\n",
       "      <td>0.000000</td>\n",
       "      <td>0.000000</td>\n",
       "    </tr>\n",
       "    <tr>\n",
       "      <th>25%</th>\n",
       "      <td>0.000000</td>\n",
       "      <td>101.00000</td>\n",
       "      <td>94.500000</td>\n",
       "      <td>0.801538</td>\n",
       "      <td>0.890278</td>\n",
       "      <td>52.000000</td>\n",
       "      <td>2169.000000</td>\n",
       "      <td>98.000000</td>\n",
       "      <td>3.150000</td>\n",
       "      <td>3.110000</td>\n",
       "      <td>8.600000</td>\n",
       "      <td>70.000000</td>\n",
       "      <td>4800.000000</td>\n",
       "      <td>19.000000</td>\n",
       "      <td>25.000000</td>\n",
       "      <td>7775.000000</td>\n",
       "      <td>7.833333</td>\n",
       "      <td>0.000000</td>\n",
       "      <td>1.000000</td>\n",
       "    </tr>\n",
       "    <tr>\n",
       "      <th>50%</th>\n",
       "      <td>1.000000</td>\n",
       "      <td>122.00000</td>\n",
       "      <td>97.000000</td>\n",
       "      <td>0.832292</td>\n",
       "      <td>0.909722</td>\n",
       "      <td>54.100000</td>\n",
       "      <td>2414.000000</td>\n",
       "      <td>120.000000</td>\n",
       "      <td>3.310000</td>\n",
       "      <td>3.290000</td>\n",
       "      <td>9.000000</td>\n",
       "      <td>95.000000</td>\n",
       "      <td>5125.369458</td>\n",
       "      <td>24.000000</td>\n",
       "      <td>30.000000</td>\n",
       "      <td>10295.000000</td>\n",
       "      <td>9.791667</td>\n",
       "      <td>0.000000</td>\n",
       "      <td>1.000000</td>\n",
       "    </tr>\n",
       "    <tr>\n",
       "      <th>75%</th>\n",
       "      <td>2.000000</td>\n",
       "      <td>137.00000</td>\n",
       "      <td>102.400000</td>\n",
       "      <td>0.881788</td>\n",
       "      <td>0.925000</td>\n",
       "      <td>55.500000</td>\n",
       "      <td>2926.000000</td>\n",
       "      <td>141.000000</td>\n",
       "      <td>3.580000</td>\n",
       "      <td>3.410000</td>\n",
       "      <td>9.400000</td>\n",
       "      <td>116.000000</td>\n",
       "      <td>5500.000000</td>\n",
       "      <td>30.000000</td>\n",
       "      <td>34.000000</td>\n",
       "      <td>16500.000000</td>\n",
       "      <td>12.368421</td>\n",
       "      <td>0.000000</td>\n",
       "      <td>1.000000</td>\n",
       "    </tr>\n",
       "    <tr>\n",
       "      <th>max</th>\n",
       "      <td>3.000000</td>\n",
       "      <td>256.00000</td>\n",
       "      <td>120.900000</td>\n",
       "      <td>1.000000</td>\n",
       "      <td>1.000000</td>\n",
       "      <td>59.800000</td>\n",
       "      <td>4066.000000</td>\n",
       "      <td>326.000000</td>\n",
       "      <td>3.940000</td>\n",
       "      <td>4.170000</td>\n",
       "      <td>23.000000</td>\n",
       "      <td>262.000000</td>\n",
       "      <td>6600.000000</td>\n",
       "      <td>49.000000</td>\n",
       "      <td>54.000000</td>\n",
       "      <td>45400.000000</td>\n",
       "      <td>18.076923</td>\n",
       "      <td>1.000000</td>\n",
       "      <td>1.000000</td>\n",
       "    </tr>\n",
       "  </tbody>\n",
       "</table>\n",
       "</div>"
      ],
      "text/plain": [
       "        symboling  normalized-losses  wheel-base      length       width  \\\n",
       "count  201.000000          201.00000  201.000000  201.000000  201.000000   \n",
       "mean     0.840796          122.00000   98.797015    0.837102    0.915126   \n",
       "std      1.254802           31.99625    6.066366    0.059213    0.029187   \n",
       "min     -2.000000           65.00000   86.600000    0.678039    0.837500   \n",
       "25%      0.000000          101.00000   94.500000    0.801538    0.890278   \n",
       "50%      1.000000          122.00000   97.000000    0.832292    0.909722   \n",
       "75%      2.000000          137.00000  102.400000    0.881788    0.925000   \n",
       "max      3.000000          256.00000  120.900000    1.000000    1.000000   \n",
       "\n",
       "           height  curb-weight  engine-size        bore      stroke  \\\n",
       "count  201.000000   201.000000   201.000000  201.000000  197.000000   \n",
       "mean    53.766667  2555.666667   126.875622    3.330692    3.256904   \n",
       "std      2.447822   517.296727    41.546834    0.268072    0.319256   \n",
       "min     47.800000  1488.000000    61.000000    2.540000    2.070000   \n",
       "25%     52.000000  2169.000000    98.000000    3.150000    3.110000   \n",
       "50%     54.100000  2414.000000   120.000000    3.310000    3.290000   \n",
       "75%     55.500000  2926.000000   141.000000    3.580000    3.410000   \n",
       "max     59.800000  4066.000000   326.000000    3.940000    4.170000   \n",
       "\n",
       "       compression-ratio  horsepower     peak-rpm    city-mpg  highway-mpg  \\\n",
       "count         201.000000  201.000000   201.000000  201.000000   201.000000   \n",
       "mean           10.164279  103.405534  5117.665368   25.179104    30.686567   \n",
       "std             4.004965   37.365700   478.113805    6.423220     6.815150   \n",
       "min             7.000000   48.000000  4150.000000   13.000000    16.000000   \n",
       "25%             8.600000   70.000000  4800.000000   19.000000    25.000000   \n",
       "50%             9.000000   95.000000  5125.369458   24.000000    30.000000   \n",
       "75%             9.400000  116.000000  5500.000000   30.000000    34.000000   \n",
       "max            23.000000  262.000000  6600.000000   49.000000    54.000000   \n",
       "\n",
       "              price  city-L/100km      diesel         gas  \n",
       "count    201.000000    201.000000  201.000000  201.000000  \n",
       "mean   13207.129353      9.944145    0.099502    0.900498  \n",
       "std     7947.066342      2.534599    0.300083    0.300083  \n",
       "min     5118.000000      4.795918    0.000000    0.000000  \n",
       "25%     7775.000000      7.833333    0.000000    1.000000  \n",
       "50%    10295.000000      9.791667    0.000000    1.000000  \n",
       "75%    16500.000000     12.368421    0.000000    1.000000  \n",
       "max    45400.000000     18.076923    1.000000    1.000000  "
      ]
     },
     "execution_count": 30,
     "metadata": {},
     "output_type": "execute_result"
    }
   ],
   "source": [
    "df = pd.read_csv(r\".\\data\\usedcars.csv\")\n",
    "df.describe()"
   ]
  },
  {
   "cell_type": "markdown",
   "id": "95c41ee2",
   "metadata": {},
   "source": [
    "#### **Descriptive Statistics: value_counts()**\n",
    "\n",
    "- Summarize the categorical dta by using the **value_counts()** method\n",
    "\n",
    "    `df['drive-wheels'].value_counts()`: You could have also categorical variables in your dataset. These are variables that can be divided up into different categories or groups and have discrete values\n",
    "\n",
    "    <img src='./img/Value_Counts().PNG' alt='Value_Counts()' width='60%'>"
   ]
  },
  {
   "cell_type": "code",
   "execution_count": 6,
   "id": "29ff5a94",
   "metadata": {},
   "outputs": [
    {
     "ename": "TypeError",
     "evalue": "Series.rename() got an unexpected keyword argument 'columns'",
     "output_type": "error",
     "traceback": [
      "\u001b[31m---------------------------------------------------------------------------\u001b[39m",
      "\u001b[31mTypeError\u001b[39m                                 Traceback (most recent call last)",
      "\u001b[36mCell\u001b[39m\u001b[36m \u001b[39m\u001b[32mIn[6]\u001b[39m\u001b[32m, line 2\u001b[39m\n\u001b[32m      1\u001b[39m drive_wheels_counts = df[\u001b[33m'\u001b[39m\u001b[33mdrive-wheels\u001b[39m\u001b[33m'\u001b[39m].value_counts()\n\u001b[32m----> \u001b[39m\u001b[32m2\u001b[39m \u001b[43mdrive_wheels_counts\u001b[49m\u001b[43m.\u001b[49m\u001b[43mrename\u001b[49m\u001b[43m(\u001b[49m\u001b[43mcolumns\u001b[49m\u001b[43m=\u001b[49m\u001b[43m{\u001b[49m\u001b[33;43m'\u001b[39;49m\u001b[33;43mdrive-wheels\u001b[39;49m\u001b[33;43m'\u001b[39;49m\u001b[43m:\u001b[49m\u001b[43m \u001b[49m\u001b[33;43m'\u001b[39;49m\u001b[33;43mvalue_counts\u001b[39;49m\u001b[33;43m'\u001b[39;49m\u001b[43m}\u001b[49m\u001b[43m,\u001b[49m\u001b[43m \u001b[49m\u001b[43minplace\u001b[49m\u001b[43m=\u001b[49m\u001b[38;5;28;43;01mTrue\u001b[39;49;00m\u001b[43m)\u001b[49m\n\u001b[32m      3\u001b[39m drive_wheels_counts.index.name = \u001b[33m'\u001b[39m\u001b[33mdrive-wheels\u001b[39m\u001b[33m'\u001b[39m\n",
      "\u001b[31mTypeError\u001b[39m: Series.rename() got an unexpected keyword argument 'columns'"
     ]
    }
   ],
   "source": [
    "drive_wheels_counts = df['drive-wheels'].value_counts()\n",
    "drive_wheels_counts.rename(columns={'drive-wheels': 'value_counts'}, inplace=True)\n",
    "drive_wheels_counts.index.name = 'drive-wheels'"
   ]
  },
  {
   "cell_type": "markdown",
   "id": "c7664c32",
   "metadata": {},
   "source": [
    "> ##### **Issue** reported Jun 22, 2025:\n",
    "> \n",
    "> Code block showed on 1'36\" causes datatype error:\n",
    "> \n",
    "> ```python\n",
    ">     drive_wheels_counts = df['drive-wheels'].value_counts()\n",
    ">     drive_wheels_counts.rename(columns={'drive-wheels': 'value_counts'}, inplace=True)\n",
    ">     drive_wheels_counts.index.name = 'drive-wheels'\n",
    "> ```\n",
    "> \n",
    "> `df['drive-wheels']` is a **Pandas Series** (a single column of the **DataFrame**).\n",
    "> \n",
    "> `.value_counts()` is a method on ***Series***, and it returns another **Series**:\n",
    "> \n",
    "> Index = unique values (e.g., 'fwd', 'rwd', '4wd')\n",
    "> \n",
    "> Values = count of each unique value"
   ]
  },
  {
   "cell_type": "markdown",
   "id": "82505074",
   "metadata": {},
   "source": [
    "##### **Solution: Convert to DataFrame and rename columns**\n",
    "If you want a **DataFrame** with renamed columns, do this:"
   ]
  },
  {
   "cell_type": "code",
   "execution_count": 15,
   "id": "2b220967",
   "metadata": {},
   "outputs": [
    {
     "data": {
      "text/html": [
       "<div>\n",
       "<style scoped>\n",
       "    .dataframe tbody tr th:only-of-type {\n",
       "        vertical-align: middle;\n",
       "    }\n",
       "\n",
       "    .dataframe tbody tr th {\n",
       "        vertical-align: top;\n",
       "    }\n",
       "\n",
       "    .dataframe thead th {\n",
       "        text-align: right;\n",
       "    }\n",
       "</style>\n",
       "<table border=\"1\" class=\"dataframe\">\n",
       "  <thead>\n",
       "    <tr style=\"text-align: right;\">\n",
       "      <th></th>\n",
       "      <th>value_counts</th>\n",
       "    </tr>\n",
       "    <tr>\n",
       "      <th>drive_wheels</th>\n",
       "      <th></th>\n",
       "    </tr>\n",
       "  </thead>\n",
       "  <tbody>\n",
       "    <tr>\n",
       "      <th>fwd</th>\n",
       "      <td>118</td>\n",
       "    </tr>\n",
       "    <tr>\n",
       "      <th>rwd</th>\n",
       "      <td>75</td>\n",
       "    </tr>\n",
       "    <tr>\n",
       "      <th>4wd</th>\n",
       "      <td>8</td>\n",
       "    </tr>\n",
       "  </tbody>\n",
       "</table>\n",
       "</div>"
      ],
      "text/plain": [
       "              value_counts\n",
       "drive_wheels              \n",
       "fwd                    118\n",
       "rwd                     75\n",
       "4wd                      8"
      ]
     },
     "execution_count": 15,
     "metadata": {},
     "output_type": "execute_result"
    }
   ],
   "source": [
    "# Create a DataFrame from the value counts\n",
    "drive_wheels_counts = df['drive-wheels'].value_counts().reset_index()\n",
    "# Rename the columns\n",
    "drive_wheels_counts.columns = ['drive_wheels', 'value_counts']\n",
    "# Set the index to 'drive_wheels'\n",
    "drive_wheels_counts.set_index('drive_wheels', inplace=True)\n",
    "drive_wheels_counts"
   ]
  },
  {
   "cell_type": "markdown",
   "id": "f3bf78a6",
   "metadata": {},
   "source": [
    "#### **Descriptive Statistics: Box Plots**\n",
    "\n",
    "Box plots are a great way to visualize numeric data, since you can visualize the various distributions of the data. \n",
    "\n",
    "The main features that the box plot shows are the median of the data which represents where the middle data point is, the upper quartile shows where the 75th percentile is, the lower quartile shows where the 25th percentile is. The data between the upper and lower quartile represents the inter-quartile range. Next, you have the lower and upper extremes. These are calculated as 1.5 times the inter-quartile range above the 75th percentile, and as 1.5 times the IQR below the 25th percentile. \n",
    "\n",
    "<img src='./img/Box Plot Def.PNG' alt='Box Plot Def' width='30%'>\n",
    "\n",
    "Finally, box plots also display outliers as individual dots that occur outside the upper and lower extremes. With box plots, you can easily spot outliers and also see the distribution and skewness of the data. Box plots make it easy to compare between groups\n",
    "\n",
    "<img src='./img/Box Plots.PNG' alt='Box Plot' width='45%'>"
   ]
  },
  {
   "cell_type": "markdown",
   "id": "eae3cd52",
   "metadata": {},
   "source": [
    "#### **Box Plot: Example**\n",
    "\n",
    "```python\n",
    "sns.boxplot(x=\"drive-wheels\", y=\"price\", data=df)\n",
    "```\n",
    "\n",
    "<img src='./img/Box Plot Example.PNG' alt='Box Plot: Example' width='60%'>"
   ]
  },
  {
   "cell_type": "code",
   "execution_count": null,
   "id": "d6d5e285",
   "metadata": {},
   "outputs": [
    {
     "data": {
      "text/plain": [
       "<Axes: xlabel='drive-wheels', ylabel='price'>"
      ]
     },
     "execution_count": 28,
     "metadata": {},
     "output_type": "execute_result"
    },
    {
     "data": {
      "image/png": "[encoded data removed]",
      "text/plain": [
       "<Figure size 640x480 with 1 Axes>"
      ]
     },
     "metadata": {},
     "output_type": "display_data"
    }
   ],
   "source": [
    "import seaborn as sns\n",
    "\n",
    "# sns.boxplot(x='drive-wheels', y='price', data=df, palette='Set2')\n",
    "\n",
    "custom_palette = {\n",
    "    'rwd': '#4575b4',  # blue\n",
    "    'fwd': '#91cf60',  # green\n",
    "    '4wd': '#d73027'   # red\n",
    "}\n",
    "\n",
    "# sns.boxplot(x='drive-wheels', y='price', data=df, palette=custom_palette)\n",
    "sns.boxplot(x='drive-wheels', y='price', data=df, hue='drive-wheels', palette=custom_palette, legend=False)\n"
   ]
  },
  {
   "cell_type": "code",
   "execution_count": 29,
   "id": "ea5ca077",
   "metadata": {},
   "outputs": [
    {
     "data": {
      "image/png": "[encoded data removed]",
      "text/plain": [
       "<Figure size 640x480 with 1 Axes>"
      ]
     },
     "metadata": {},
     "output_type": "display_data"
    }
   ],
   "source": [
    "import seaborn as sns\n",
    "import matplotlib.pyplot as plt\n",
    "# Optional: set seaborn style\n",
    "sns.set_style(\"whitegrid\")  # adds subtle background grid automatically\n",
    "\n",
    "custom_palette = {\n",
    "    'rwd': '#4575b4',\n",
    "    'fwd': '#91cf60',\n",
    "    '4wd': '#d73027'\n",
    "}\n",
    "\n",
    "sns.boxplot(\n",
    "    x='drive-wheels', \n",
    "    y='price', \n",
    "    data=df, \n",
    "    hue='drive-wheels', \n",
    "    palette=custom_palette, \n",
    "    legend=False\n",
    ")\n",
    "\n",
    "plt.legend([], [], frameon=False)  # hide redundant legend\n",
    "plt.grid(True)  # explicitly add major grid lines"
   ]
  },
  {
   "cell_type": "markdown",
   "id": "1a952489",
   "metadata": {},
   "source": [
    "#### **Descriptive Statistics: Scatter Plot**\n",
    "\n",
    "- Each observation represented as point\n",
    "- Scatter plots show the relationship between two variables:\n",
    "\n",
    "    1. Predictor/independent variables on x-axis\n",
    "    2. Target/dependent variables on y-axis\n",
    "\n",
    "Each observation in a scatter plot is represented as a point. This plot shows the relationship between two variables. The predictor variable is the variable that you are using to predict an outcome. The target variable is the variable that you are trying to predict."
   ]
  },
  {
   "cell_type": "markdown",
   "id": "29502ee2",
   "metadata": {},
   "source": [
    "#### **Scatter Plot: Example**\n",
    "\n",
    "We are using the Matplotlib function scatter here, taking in x and a y variable. Something to note is that it's always important to label your axes and write a general plot title so that you know what you're looking at. Now, how is the variable engine size related to price? From the scatter plot, we see that as the engine size goes up, the price of the car also goes up. This is giving us an initial indication that there is a positive linear relationship between these two variables.\n",
    "\n",
    "<img src='./img/Scatter Plot Example.PNG' alt='Scatter Plot: Example' width='60%'>"
   ]
  },
  {
   "cell_type": "code",
   "execution_count": 13,
   "id": "bd0e346d",
   "metadata": {},
   "outputs": [
    {
     "data": {
      "text/plain": [
       "Text(0, 0.5, 'Price')"
      ]
     },
     "execution_count": 13,
     "metadata": {},
     "output_type": "execute_result"
    },
    {
     "data": {
      "image/png": "[encoded data removed]",
      "text/plain": [
       "<Figure size 640x480 with 1 Axes>"
      ]
     },
     "metadata": {},
     "output_type": "display_data"
    }
   ],
   "source": [
    "import matplotlib.pyplot as plt\n",
    "\n",
    "y = df['price']\n",
    "x = df['engine-size']\n",
    "plt.scatter(x, y)\n",
    "\n",
    "plt.title('Scatterplot of Engine Size vs Price')\n",
    "plt.xlabel('Engine Size')\n",
    "plt.ylabel('Price')"
   ]
  },
  {
   "cell_type": "markdown",
   "id": "7a640214",
   "metadata": {},
   "source": [
    "#### **Grouping data**\n",
    "\n",
    "Question:\n",
    "**Is there any relationship beteween the different types of \"drive system\" and the \"price\" of the vehicles?**\n",
    "\n",
    "- User pandas **`Dataframe.groupby()`** method:\n",
    "    - Can be applied to categorical variables\n",
    "    - Group data into categories\n",
    "    - Single or multiple variables"
   ]
  },
  {
   "cell_type": "markdown",
   "id": "ac897689",
   "metadata": {},
   "source": [
    "#### **groupby(): Example**\n",
    "\n",
    "```python\n",
    "df_test = df[[\"driver-wheels\", \"body-style\", \"price\"]]\n",
    "df_grp = df_test.groupby([\"driver-wheels\", \"body-style\"], as_index=False).mean()\n",
    "df_grp\n",
    "```\n",
    "\n",
    "<img src='./img/groupby() Example.PNG' alt='groupby(): Example' width='60%'>"
   ]
  },
  {
   "cell_type": "code",
   "execution_count": 17,
   "id": "0936a5dc",
   "metadata": {},
   "outputs": [
    {
     "data": {
      "text/html": [
       "<div>\n",
       "<style scoped>\n",
       "    .dataframe tbody tr th:only-of-type {\n",
       "        vertical-align: middle;\n",
       "    }\n",
       "\n",
       "    .dataframe tbody tr th {\n",
       "        vertical-align: top;\n",
       "    }\n",
       "\n",
       "    .dataframe thead th {\n",
       "        text-align: right;\n",
       "    }\n",
       "</style>\n",
       "<table border=\"1\" class=\"dataframe\">\n",
       "  <thead>\n",
       "    <tr style=\"text-align: right;\">\n",
       "      <th></th>\n",
       "      <th>drive-wheels</th>\n",
       "      <th>body-style</th>\n",
       "      <th>price</th>\n",
       "    </tr>\n",
       "  </thead>\n",
       "  <tbody>\n",
       "    <tr>\n",
       "      <th>0</th>\n",
       "      <td>4wd</td>\n",
       "      <td>hatchback</td>\n",
       "      <td>7603.000000</td>\n",
       "    </tr>\n",
       "    <tr>\n",
       "      <th>1</th>\n",
       "      <td>4wd</td>\n",
       "      <td>sedan</td>\n",
       "      <td>12647.333333</td>\n",
       "    </tr>\n",
       "    <tr>\n",
       "      <th>2</th>\n",
       "      <td>4wd</td>\n",
       "      <td>wagon</td>\n",
       "      <td>9095.750000</td>\n",
       "    </tr>\n",
       "    <tr>\n",
       "      <th>3</th>\n",
       "      <td>fwd</td>\n",
       "      <td>convertible</td>\n",
       "      <td>11595.000000</td>\n",
       "    </tr>\n",
       "    <tr>\n",
       "      <th>4</th>\n",
       "      <td>fwd</td>\n",
       "      <td>hardtop</td>\n",
       "      <td>8249.000000</td>\n",
       "    </tr>\n",
       "    <tr>\n",
       "      <th>5</th>\n",
       "      <td>fwd</td>\n",
       "      <td>hatchback</td>\n",
       "      <td>8396.387755</td>\n",
       "    </tr>\n",
       "    <tr>\n",
       "      <th>6</th>\n",
       "      <td>fwd</td>\n",
       "      <td>sedan</td>\n",
       "      <td>9811.800000</td>\n",
       "    </tr>\n",
       "    <tr>\n",
       "      <th>7</th>\n",
       "      <td>fwd</td>\n",
       "      <td>wagon</td>\n",
       "      <td>9997.333333</td>\n",
       "    </tr>\n",
       "    <tr>\n",
       "      <th>8</th>\n",
       "      <td>rwd</td>\n",
       "      <td>convertible</td>\n",
       "      <td>23949.600000</td>\n",
       "    </tr>\n",
       "    <tr>\n",
       "      <th>9</th>\n",
       "      <td>rwd</td>\n",
       "      <td>hardtop</td>\n",
       "      <td>24202.714286</td>\n",
       "    </tr>\n",
       "    <tr>\n",
       "      <th>10</th>\n",
       "      <td>rwd</td>\n",
       "      <td>hatchback</td>\n",
       "      <td>14337.777778</td>\n",
       "    </tr>\n",
       "    <tr>\n",
       "      <th>11</th>\n",
       "      <td>rwd</td>\n",
       "      <td>sedan</td>\n",
       "      <td>21711.833333</td>\n",
       "    </tr>\n",
       "    <tr>\n",
       "      <th>12</th>\n",
       "      <td>rwd</td>\n",
       "      <td>wagon</td>\n",
       "      <td>16994.222222</td>\n",
       "    </tr>\n",
       "  </tbody>\n",
       "</table>\n",
       "</div>"
      ],
      "text/plain": [
       "   drive-wheels   body-style         price\n",
       "0           4wd    hatchback   7603.000000\n",
       "1           4wd        sedan  12647.333333\n",
       "2           4wd        wagon   9095.750000\n",
       "3           fwd  convertible  11595.000000\n",
       "4           fwd      hardtop   8249.000000\n",
       "5           fwd    hatchback   8396.387755\n",
       "6           fwd        sedan   9811.800000\n",
       "7           fwd        wagon   9997.333333\n",
       "8           rwd  convertible  23949.600000\n",
       "9           rwd      hardtop  24202.714286\n",
       "10          rwd    hatchback  14337.777778\n",
       "11          rwd        sedan  21711.833333\n",
       "12          rwd        wagon  16994.222222"
      ]
     },
     "execution_count": 17,
     "metadata": {},
     "output_type": "execute_result"
    }
   ],
   "source": [
    "df_test = df[[\"drive-wheels\", \"body-style\", \"price\"]]\n",
    "df_grp = df_test.groupby([\"drive-wheels\", \"body-style\"], as_index=False).mean()\n",
    "df_grp"
   ]
  },
  {
   "cell_type": "markdown",
   "id": "84f63fa4",
   "metadata": {},
   "source": [
    "#### **Pandas method: Pivot()**\n",
    "\n",
    "- One variable is displayed along the columns, and the other variable is displayed along the rows\n",
    "\n",
    "    ```python\n",
    "    df_pivot = df_grp.pivot(index='drive-wheels', columns='body-style')\n",
    "    ```\n",
    "\n",
    "    <img src='./img/Pivot().PNG' alt='Panda method: Pivot()' width='60%'>"
   ]
  },
  {
   "cell_type": "code",
   "execution_count": 32,
   "id": "feac7ecd",
   "metadata": {},
   "outputs": [
    {
     "data": {
      "text/html": [
       "<div>\n",
       "<style scoped>\n",
       "    .dataframe tbody tr th:only-of-type {\n",
       "        vertical-align: middle;\n",
       "    }\n",
       "\n",
       "    .dataframe tbody tr th {\n",
       "        vertical-align: top;\n",
       "    }\n",
       "\n",
       "    .dataframe thead tr th {\n",
       "        text-align: left;\n",
       "    }\n",
       "\n",
       "    .dataframe thead tr:last-of-type th {\n",
       "        text-align: right;\n",
       "    }\n",
       "</style>\n",
       "<table border=\"1\" class=\"dataframe\">\n",
       "  <thead>\n",
       "    <tr>\n",
       "      <th></th>\n",
       "      <th colspan=\"5\" halign=\"left\">price</th>\n",
       "    </tr>\n",
       "    <tr>\n",
       "      <th>body-style</th>\n",
       "      <th>convertible</th>\n",
       "      <th>hardtop</th>\n",
       "      <th>hatchback</th>\n",
       "      <th>sedan</th>\n",
       "      <th>wagon</th>\n",
       "    </tr>\n",
       "    <tr>\n",
       "      <th>drive-wheels</th>\n",
       "      <th></th>\n",
       "      <th></th>\n",
       "      <th></th>\n",
       "      <th></th>\n",
       "      <th></th>\n",
       "    </tr>\n",
       "  </thead>\n",
       "  <tbody>\n",
       "    <tr>\n",
       "      <th>4wd</th>\n",
       "      <td>NaN</td>\n",
       "      <td>NaN</td>\n",
       "      <td>7603.000000</td>\n",
       "      <td>12647.333333</td>\n",
       "      <td>9095.750000</td>\n",
       "    </tr>\n",
       "    <tr>\n",
       "      <th>fwd</th>\n",
       "      <td>11595.0</td>\n",
       "      <td>8249.000000</td>\n",
       "      <td>8396.387755</td>\n",
       "      <td>9811.800000</td>\n",
       "      <td>9997.333333</td>\n",
       "    </tr>\n",
       "    <tr>\n",
       "      <th>rwd</th>\n",
       "      <td>23949.6</td>\n",
       "      <td>24202.714286</td>\n",
       "      <td>14337.777778</td>\n",
       "      <td>21711.833333</td>\n",
       "      <td>16994.222222</td>\n",
       "    </tr>\n",
       "  </tbody>\n",
       "</table>\n",
       "</div>"
      ],
      "text/plain": [
       "                   price                                            \\\n",
       "body-style   convertible       hardtop     hatchback         sedan   \n",
       "drive-wheels                                                         \n",
       "4wd                  NaN           NaN   7603.000000  12647.333333   \n",
       "fwd              11595.0   8249.000000   8396.387755   9811.800000   \n",
       "rwd              23949.6  24202.714286  14337.777778  21711.833333   \n",
       "\n",
       "                            \n",
       "body-style           wagon  \n",
       "drive-wheels                \n",
       "4wd            9095.750000  \n",
       "fwd            9997.333333  \n",
       "rwd           16994.222222  "
      ]
     },
     "execution_count": 32,
     "metadata": {},
     "output_type": "execute_result"
    }
   ],
   "source": [
    "df_pivot = df_grp.pivot(index='drive-wheels', columns='body-style')\n",
    "df_pivot"
   ]
  },
  {
   "cell_type": "markdown",
   "id": "5663fe51",
   "metadata": {},
   "source": [
    "#### **Heatmap**\n",
    "\n",
    "- Plot target variable against multiple variables\n",
    "\n",
    "    Heat map takes a rectangular grid of data and assigns a color intensity based on the data value at the grid points. It is a great way to plot the target variable over multiple variables, and through this, get visual clues of the relationship between these variables and the target. \n",
    "\n",
    "    ```python\n",
    "    plt.pcolor(df_pivot, cmap='RdBu')\n",
    "    plt.colorbar()\n",
    "    plt.show\n",
    "    ```\n",
    "\n",
    "    <img src='./img/Heatmap.PNG' alt='Heatmap' width='60%'>\n"
   ]
  },
  {
   "cell_type": "code",
   "execution_count": 33,
   "id": "b7396450",
   "metadata": {},
   "outputs": [
    {
     "data": {
      "text/plain": [
       "<matplotlib.colorbar.Colorbar at 0x230714e5010>"
      ]
     },
     "execution_count": 33,
     "metadata": {},
     "output_type": "execute_result"
    },
    {
     "data": {
      "image/png": "[encoded data removed]",
      "text/plain": [
       "<Figure size 640x480 with 2 Axes>"
      ]
     },
     "metadata": {},
     "output_type": "display_data"
    }
   ],
   "source": [
    "plt.pcolor(df_pivot, cmap='RdBu')\n",
    "plt.colorbar()"
   ]
  },
  {
   "cell_type": "markdown",
   "id": "2946a7bb",
   "metadata": {},
   "source": [
    "### **Video:** Correlation\n",
    "\n",
    "> *Transcript:*\n",
    "> \n",
    "> In this video, we'll talk about the correlation between different variables. Correlation is a statistical metric for measuring to what extent different variables are interdependent. In other words, when we look at two variables over time, if one variable changes, how does this affect change in the other variable? For example, smoking is known to be correlated to lung cancer, since you have a higher chance of getting lung cancer if you smoke. In another example, there is a correlation between umbrella and rain variables, where more precipitation means more people use umbrellas. Also, if it doesn't rain, people would not carry umbrellas. Therefore, we can say that umbrellas and rain are interdependent and by definition they are correlated. It is important to know that correlation doesn't imply causation. In fact, we can say that umbrella and rain are correlated, but we would not have enough information to say whether the umbrella caused the rain or the rain caused the umbrella. In data science, we usually deal more with correlation. Let's look at the correlation between engine size and price. This time we'll visualize these two variables using a scatter plot and an added linear line called a regression line, which indicates the relationship between the two. The main goal of this plot is to see whether the engine size has any impact on the price. In this example, you can see that the straight line through the data points is very steep, which shows that there is a positive linear relationship between the two variables. With increase in values of engine size, values of price go up as well, and the slope of the line is positive. So there is a positive correlation between engine size and price. We can use seaborne reg plot to create the scatter plot. As another example, now let's look at the relationship between highway miles per gallon to see its impact on the car price. As we can see in this plot, when highway miles per gallon value goes up, the value of price goes down. Therefore, there is a negative linear relationship between highway miles per gallon and price. Although this relationship is negative, the slope of the line is steep, which means that the highway miles per gallon is still a good predictor of price. These two variables are said to have a negative correlation. Finally, we have an example of a weak correlation. For example, both low peak RPM and high values of peak RPM have low and high prices. Therefore, we cannot use RPM to predict the values."
   ]
  },
  {
   "cell_type": "markdown",
   "id": "b5761b17",
   "metadata": {},
   "source": [
    "#### **Correlation**\n",
    "\n",
    "What is Correlation?\n",
    "\n",
    "- Measures to what extent different variables are interdependent\n",
    "\n",
    "- For example:\n",
    "\n",
    "    - Lung cancer -> Smoking\n",
    "    - Rain -> Umbrella\n",
    "\n",
    "- Correlation doesn't imply causation"
   ]
  },
  {
   "cell_type": "markdown",
   "id": "f9bf4315",
   "metadata": {},
   "source": [
    "#### **Correlation: Positive linear relationship**\n",
    "\n",
    "- Correlation between two features(engine-size and price)\n",
    "\n",
    "    ```python\n",
    "    sns.regplot(x=\"engine-size\", y=\"price\", data=df)\n",
    "    plt.ylim(0,)\n",
    "    ```\n",
    "\n",
    "    <img src='./img/Correlation - Positive linear relationship.PNG' alt='Postive linear relationship' width='60%'>\n",
    "\n",
    "    In this example, you can see that the straight line through the data points is very steep, which shows that there is a positive linear relationship between the two variables. With increase in values of engine size, values of price go up as well, and the slope of the line is positive. So there is a positive correlation between engine size and price. "
   ]
  },
  {
   "cell_type": "code",
   "execution_count": 34,
   "id": "4ba965e2",
   "metadata": {},
   "outputs": [
    {
     "data": {
      "text/plain": [
       "(0.0, 53320.192198990255)"
      ]
     },
     "execution_count": 34,
     "metadata": {},
     "output_type": "execute_result"
    },
    {
     "data": {
      "image/png": "[encoded data removed]",
      "text/plain": [
       "<Figure size 640x480 with 1 Axes>"
      ]
     },
     "metadata": {},
     "output_type": "display_data"
    }
   ],
   "source": [
    "sns.regplot(x=\"engine-size\", y=\"price\", data=df)\n",
    "plt.ylim(0,)"
   ]
  },
  {
   "cell_type": "markdown",
   "id": "c3ea2d51",
   "metadata": {},
   "source": [
    "#### **Correlation: Negative linear relationship**\n",
    "\n",
    "- Correlation between two features(highway-mpg and price)\n",
    "\n",
    "    ```python\n",
    "    sns.regplot(x=\"highway-mpg\", y=\"price\", data=df)\n",
    "    plt.ylim(0,)\n",
    "    ```\n",
    "\n",
    "    <img src='./img/Correlation - Negative linear relationship.PNG' alt='Postive linear relationship' width='60%'>\n",
    "\n",
    "    As we can see in this plot, when highway miles per gallon value goes up, the value of price goes down. Therefore, there is a negative linear relationship between highway miles per gallon and price. Although this relationship is negative, the slope of the line is steep, which means that the highway miles per gallon is still a good predictor of price."
   ]
  },
  {
   "cell_type": "code",
   "execution_count": 35,
   "id": "d8752631",
   "metadata": {},
   "outputs": [
    {
     "data": {
      "text/plain": [
       "(0.0, 48173.21677410753)"
      ]
     },
     "execution_count": 35,
     "metadata": {},
     "output_type": "execute_result"
    },
    {
     "data": {
      "image/png": "[encoded data removed]",
      "text/plain": [
       "<Figure size 640x480 with 1 Axes>"
      ]
     },
     "metadata": {},
     "output_type": "display_data"
    }
   ],
   "source": [
    "sns.regplot(x=\"highway-mpg\", y=\"price\", data=df)\n",
    "plt.ylim(0,)"
   ]
  },
  {
   "cell_type": "markdown",
   "id": "e0d4e745",
   "metadata": {},
   "source": [
    "#### **Correlation: Weak relationship**\n",
    "\n",
    "- Weak correlation between two features(peak-rpm and price)\n",
    "\n",
    "    ```python\n",
    "    sns.regplot(x=\"peak-rpm\", y=\"price\", data=df)\n",
    "    plt.ylim(0,)\n",
    "    ```\n",
    "\n",
    "    <img src='./img/Correlation - Weak relationship.PNG' alt='Weak correlation' width='60%'>\n",
    "\n",
    "    Finally, we have an example of a weak correlation. For example, both low peak RPM and high values of peak RPM have low and high prices. Therefore, we cannot use RPM to predict the values."
   ]
  },
  {
   "cell_type": "code",
   "execution_count": 36,
   "id": "4c1af416",
   "metadata": {},
   "outputs": [
    {
     "data": {
      "text/plain": [
       "(0.0, 47414.1)"
      ]
     },
     "execution_count": 36,
     "metadata": {},
     "output_type": "execute_result"
    },
    {
     "data": {
      "image/png": "[encoded data removed]",
      "text/plain": [
       "<Figure size 640x480 with 1 Axes>"
      ]
     },
     "metadata": {},
     "output_type": "display_data"
    }
   ],
   "source": [
    "sns.regplot(x=\"peak-rpm\", y=\"price\", data=df)\n",
    "plt.ylim(0,)"
   ]
  },
  {
   "cell_type": "markdown",
   "id": "4ec0e3d8",
   "metadata": {},
   "source": [
    "### **Video:** Correlation - Statistics\n",
    "\n",
    "> *Transcript:*\n",
    "> \n",
    "> In this video, we'll introduce you to various correlation statistical methods. One way to measure the strength of the correlation between continuous numerical variables is by using a method called Pearson Correlation. Pearson Correlation method will give you two values; the correlation coefficient and the p-value. How do we interpret these values? For the correlation coefficient, a value close to one implies a large positive correlation, while a value close to -1 implies a large negative correlation, and a value close to zero implies no correlation between the variables. Next, the p-value will tell us how certain we are about the correlation that we calculated. For the p-value, a value less than 0.001 gives us a strong certainty about the correlation coefficient that we calculated, a value between 0.001 and 0.05 gives us moderate certainty, a value between 0.05 and 0.1 will give us a weak certainty, and a p-value larger than 0.1 will give us no certainty of correlation at all. We can say that there is a strong correlation when the correlation coefficient is close to one or -1 and the p-value is less than 0.001. The following plot shows data with different correlation values. In this example, we want to look at the correlation between the variables horsepower and car price. See how easy you can calculate the Pearson Correlation using the Scipy stats package? We can see that the correlation coefficient is approximately 0.8 and this is close to one, so there's a strong positive correlation. We can also see that the p-value is very small, much smaller than 0.001, and so we can conclude that we are certain about the strong positive correlation. Taking all variables into account, we can now create a heat map that indicates the correlation between each of the variables with one another. The color scheme indicates the Pearson correlation coefficient, indicating the strength of the correlation between two variables. We can see a diagonal line with a dark red color indicating that all the values on this diagonal are highly correlated. This makes sense because when you look closer, the values on the diagonal are the correlation of all variables with themselves, which will be always one. This correlation heat map gives us a good overview of how the different variables are related to one another, and most importantly, how these variables are related to price."
   ]
  },
  {
   "cell_type": "markdown",
   "id": "7ffc89ee",
   "metadata": {},
   "source": [
    "#### **Pearson Correlation**\n",
    "\n",
    "- Measure the strength of the correlation between two features\n",
    "\n",
    "    - Correltion coeffcient\n",
    "    - P-value\n",
    "\n",
    "- Correlation coefficient\n",
    "\n",
    "    - Close to +1: Large Positive relationship\n",
    "    - Close to -1: Large Negative relationship\n",
    "    - Close to  0: No relationship\n",
    "\n",
    "- P-value\n",
    "\n",
    "    - P-value < 0.001: Strong certainty in the result\n",
    "    - P-value < 0.05 : Moderate certainty in the result\n",
    "    - P-value < 0.1  : Weak certainty in the result\n",
    "    - P-value > 0,1  : No certainty in the result\n",
    "\n",
    "- Strong correlation\n",
    "\n",
    "    - Correlation coefficient close to 1 or -1\n",
    "\n",
    "    <img src='./img/Pearson Correlation.PNG' alt='Pearson Correlation' width='60%'>\n",
    "\n",
    "Pearson Correlation - Example:"
   ]
  },
  {
   "cell_type": "code",
   "execution_count": 39,
   "id": "4bd958c3",
   "metadata": {},
   "outputs": [
    {
     "name": "stdout",
     "output_type": "stream",
     "text": [
      "0.809574567003656 6.369057428259638e-48\n"
     ]
    }
   ],
   "source": [
    "from scipy import stats\n",
    "Pearson_coef, p_value = stats.pearsonr(df['horsepower'], df['price'])\n",
    "print(Pearson_coef, p_value)"
   ]
  },
  {
   "cell_type": "markdown",
   "id": "42ea7af5",
   "metadata": {},
   "source": [
    "Taking all variables into account, we can now create a heat map that indicates the correlation between each of the variables with one another. The color scheme indicates the Pearson correlation coefficient, indicating the strength of the correlation between two variables. We can see a diagonal line with a dark red color indicating that all the values on this diagonal are highly correlated. This makes sense because when you look closer, the values on the diagonal are the correlation of all variables with themselves, which will be always one. This correlation heat map gives us a good overview of how the different variables are related to one another, and most importantly, how these variables are related to price.\n",
    "\n",
    "<img src='./img/Correlation - Heatmap.PNG' alt='Pearson Correlation' width='60%'>"
   ]
  },
  {
   "cell_type": "markdown",
   "id": "416fb728",
   "metadata": {},
   "source": [
    "### Lesson Summary\n",
    "\n",
    "Congratulations! You have completed this lesson. At this point in the course, you know: \n",
    "\n",
    "- Tools like the **'describe'** function in pandas can quickly calculate key statistical measures like mean, standard deviation, and quartiles for all numerical variables in your data frame. \n",
    "\n",
    "- Use the **'value_counts'** function to summarize data into different categories for categorical data. \n",
    "\n",
    "- Box plots offer a more visual representation of the data's distribution for numerical data, indicating features like the median, quartiles, and outliers.\n",
    "\n",
    "- Scatter plots are excellent for exploring relationships between continuous variables, like engine size and price, in a car data set.\n",
    "\n",
    "- Use Pandas' **'groupby'** method to explore relationships between categorical variables.\n",
    "\n",
    "- Use pivot tables and heat maps for better data visualizations.\n",
    "\n",
    "- Correlation between variables is a statistical measure that indicates how the changes in one variable might be associated with changes in another variable.\n",
    "\n",
    "- When exploring correlation, use scatter plots combined with a regression line to visualize relationships between variables.\n",
    "\n",
    "- Visualization functions like **regplot**, from the **seaborn** library, are especially useful for exploring correlation.\n",
    "\n",
    "- The **Pearson correlation**, a key method for assessing the correlation between continuous numerical variables, provides two critical values—the coefficient, which indicates the strength and direction of the correlation, and the P-value, which assesses the certainty of the correlation.\n",
    "\n",
    "- A correlation coefficient close to 1 or -1 indicates a strong positive or negative correlation, respectively, while one close to zero suggests no correlation.\n",
    "\n",
    "- For P-values, values less than .001 indicate strong certainty in the correlation, while larger values indicate less certainty. Both the coefficient and P-value are important for confirming a strong correlation.\n",
    "\n",
    "- Heatmaps provide a comprehensive visual summary of the strength and direction of correlations among multiple variables.\n",
    "\n"
   ]
  }
 ],
 "metadata": {
  "kernelspec": {
   "display_name": ".venv",
   "language": "python",
   "name": "python3"
  },
  "language_info": {
   "codemirror_mode": {
    "name": "ipython",
    "version": 3
   },
   "file_extension": ".py",
   "mimetype": "text/x-python",
   "name": "python",
   "nbconvert_exporter": "python",
   "pygments_lexer": "ipython3",
   "version": "3.13.3"
  }
 },
 "nbformat": 4,
 "nbformat_minor": 5
}
